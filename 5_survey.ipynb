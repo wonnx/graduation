{
 "cells": [
  {
   "cell_type": "code",
   "execution_count": 1,
   "metadata": {},
   "outputs": [],
   "source": [
    "import skmob\n",
    "import pandas as pd\n",
    "import csv, os, sys, json\n",
    "import urllib.request\n",
    "from skmob.preprocessing import clustering\n",
    "from pandas import Series, DataFrame\n",
    "import math"
   ]
  },
  {
   "cell_type": "code",
   "execution_count": 98,
   "metadata": {},
   "outputs": [],
   "source": [
    "df = pd.read_csv('./answer.csv')\n",
    "# print(df)\n",
    "group = df.groupby('deviceid')\n",
    "# print(group.first())\n",
    "\n",
    "prefer = dict()\n",
    "\n",
    "for key, g in group:\n",
    "    # print(f\"key: {key}\")\n",
    "    prefer[key] = dict()\n",
    "    for x in g['choices']:\n",
    "        if str(type(x)) == \"<class 'float'>\":\n",
    "            continue\n",
    "        x = x.split(',{')\n",
    "\n",
    "        for i, val in enumerate(x):\n",
    "            # print(f\"idx:{idx}, val:{val}\")\n",
    "            if i > 0:\n",
    "                val = '{ ' + val\n",
    "            val = val.replace(\"\\'\", '\\\"')\n",
    "            idx = val.find('index')\n",
    "            sub = val[idx:idx+8]\n",
    "            val = val.replace(sub, '\\\"index\\\": \\\"0\\\"')\n",
    "            val = val.replace('mappedValue', '\\\"mappedValue\\\"')\n",
    "            val = val.replace('prompt', '\\\"prompt\\\"')\n",
    "            # print(f\"val: {val}\")\n",
    "            d = json.loads(val)\n",
    "            # print(d['mappedValue'])\n",
    "            if str.isdigit(d['mappedValue']):\n",
    "                continue\n",
    "            # print(f\"val : {d['mappedValue']}\")\n",
    "            pref = d['mappedValue']\n",
    "            if pref not in prefer[key]:\n",
    "                prefer[key][pref] = 1\n",
    "            else:\n",
    "                prefer[key][pref] += 1\n",
    "\n",
    "        # d = json.loads(x)\n",
    "        # print(f\"d: {d}\")\n",
    "# print(prefer)\n",
    "# new_df = pd.DataFrame(prefer)\n",
    "# print(new_df)\n",
    "\n",
    "d2 = sorted(d.items(), key=lambda x: x[1], reverse=True)\n",
    "\n",
    "for x in prefer:\n",
    "    prefer[x] = dict(sorted(prefer[x].items(), key=lambda y: y[1], reverse=True))\n",
    "\n",
    "\n",
    "with open('survey.csv','w') as f:\n",
    "    w = csv.writer(f)\n",
    "    # w.writerow(prefer.keys())\n",
    "    # w.writerow(prefer.values())\n",
    "    w.writerow(['deviceid', 'poi', 'count'])\n",
    "    for x in prefer:\n",
    "        for y in prefer[x]:\n",
    "            w.writerow([x, y, prefer[x][y]])\n"
   ]
  }
 ],
 "metadata": {
  "kernelspec": {
   "display_name": "Python 3.7.11 ('skmob')",
   "language": "python",
   "name": "python3"
  },
  "language_info": {
   "codemirror_mode": {
    "name": "ipython",
    "version": 3
   },
   "file_extension": ".py",
   "mimetype": "text/x-python",
   "name": "python",
   "nbconvert_exporter": "python",
   "pygments_lexer": "ipython3",
   "version": "3.7.11"
  },
  "orig_nbformat": 4,
  "vscode": {
   "interpreter": {
    "hash": "0f4e55ebc5827dc1af76f512874349628886059400c2743f418f581f61113d99"
   }
  }
 },
 "nbformat": 4,
 "nbformat_minor": 2
}
