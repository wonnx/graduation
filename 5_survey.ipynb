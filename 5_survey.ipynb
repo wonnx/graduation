{
 "cells": [
  {
   "cell_type": "code",
   "execution_count": 2,
   "metadata": {},
   "outputs": [],
   "source": [
    "import skmob\n",
    "import pandas as pd\n",
    "import csv, os, sys, json\n",
    "import urllib.request\n",
    "from skmob.preprocessing import clustering\n",
    "from pandas import Series, DataFrame\n",
    "import math"
   ]
  },
  {
   "cell_type": "code",
   "execution_count": 10,
   "metadata": {},
   "outputs": [],
   "source": [
    "df = pd.read_csv('./answer.csv')\n",
    "# print(df)\n",
    "group = df.groupby('deviceid')\n",
    "# print(group.first())\n",
    "\n",
    "prefer = dict()\n",
    "\n",
    "for key, g in group:\n",
    "    # print(f\"key: {key}\")\n",
    "    prefer[key] = dict()\n",
    "    for x in g['choices']:\n",
    "        if str(type(x)) == \"<class 'float'>\":\n",
    "            continue\n",
    "        x = x.split(',{')\n",
    "\n",
    "        for i, val in enumerate(x):\n",
    "            \n",
    "            if i > 0:\n",
    "                val = '{ ' + val\n",
    "            val = val.replace(\"\\'\", '\\\"')\n",
    "            idx = val.find('index')\n",
    "            sub = val[idx:idx+8]\n",
    "            val = val.replace(sub, '\\\"index\\\": \\\"0\\\"')\n",
    "            val = val.replace('mappedValue', '\\\"mappedValue\\\"')\n",
    "            val = val.replace('prompt', '\\\"prompt\\\"')\n",
    "            # print(f\"val: {val}\")\n",
    "            d = json.loads(val)\n",
    "            # print(d['mappedValue'])\n",
    "            if str.isdigit(d['mappedValue']):\n",
    "                continue\n",
    "            flag = 0\n",
    "            ban = ['전철', '집', '도보', '지하철', '휠체어', '스쿠터', '버스', '자가용', '택시','기타', '직장']\n",
    "            for b in ban:\n",
    "                if b in d['mappedValue']:\n",
    "                    flag = 1\n",
    "            if flag:\n",
    "                continue\n",
    "            # print(f\"val : {d['mappedValue']}\")\n",
    "            pref = d['mappedValue']\n",
    "            if pref not in prefer[key]:\n",
    "                prefer[key][pref] = 1\n",
    "            else:\n",
    "                prefer[key][pref] += 1\n",
    "\n",
    "        # d = json.loads(x)\n",
    "        # print(f\"d: {d}\")\n",
    "# print(prefer)\n",
    "# new_df = pd.DataFrame(prefer)\n",
    "# print(new_df)\n",
    "\n",
    "d2 = sorted(d.items(), key=lambda x: x[1], reverse=True)\n",
    "\n",
    "for x in prefer:\n",
    "    prefer[x] = dict(sorted(prefer[x].items(), key=lambda y: y[1], reverse=True))\n",
    "\n",
    "\n",
    "with open('survey.csv','w') as f:\n",
    "    w = csv.writer(f)\n",
    "    # w.writerow(prefer.keys())\n",
    "    # w.writerow(prefer.values())\n",
    "    w.writerow(['deviceid', 'poi', 'count'])\n",
    "    for x in prefer:\n",
    "        for y in prefer[x]:\n",
    "            w.writerow([x, y, prefer[x][y]])\n"
   ]
  }
 ],
 "metadata": {
  "kernelspec": {
   "display_name": "Python 3.10.8 64-bit",
   "language": "python",
   "name": "python3"
  },
  "language_info": {
   "codemirror_mode": {
    "name": "ipython",
    "version": 3
   },
   "file_extension": ".py",
   "mimetype": "text/x-python",
   "name": "python",
   "nbconvert_exporter": "python",
   "pygments_lexer": "ipython3",
   "version": "3.10.8"
  },
  "orig_nbformat": 4,
  "vscode": {
   "interpreter": {
    "hash": "b0fa6594d8f4cbf19f97940f81e996739fb7646882a419484c72d19e05852a7e"
   }
  }
 },
 "nbformat": 4,
 "nbformat_minor": 2
}
